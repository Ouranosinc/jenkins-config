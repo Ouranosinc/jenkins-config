{
 "cells": [
  {
   "cell_type": "markdown",
   "metadata": {
    "slideshow": {
     "slide_type": "slide"
    }
   },
   "source": [
    "# Jenkins Configuration as Code\n",
    "\n",
    "We will look at how Jenkins is deployed at Ouranos.\n",
    "\n",
    "Ouranos is using Jenkins to run automated nightly integration tests on our PAVICS platform.  The tests are actually regular Jupyter notebooks so we achieve two goals at once:\n",
    "* Tutorials notebooks\n",
    "* Integration tests\n",
    "\n",
    "This presentation and all the code used can be found at https://github.com/Ouranosinc/jenkins-config/tree/master/canarie-presentation.\n",
    "\n",
    "By Long Vu, software developer at Ouranos.\n",
    "\n",
    "Presentation at the Canadian Research Software Conference, May 28, 2019."
   ]
  },
  {
   "cell_type": "markdown",
   "metadata": {
    "slideshow": {
     "slide_type": "slide"
    }
   },
   "source": [
    "# Jenkins without Configuration as Code plugin\n",
    "\n",
    "![Jenkins without Configuration as Code plugin animated gif](https://github.com/Ouranosinc/jenkins-config/raw/master/canarie-presentation/jenkins-manual.gif)\n",
    "* No automated configuration sync between Production and Staging instances\n",
    "* Very time consuming to manually reconfigure a fresh instance to replicate exactly the same configurations\n",
    "* No tracking who changed which config, when, why\n"
   ]
  },
  {
   "cell_type": "markdown",
   "metadata": {
    "slideshow": {
     "slide_type": "slide"
    }
   },
   "source": [
    "# Jenkins using Configuration as Code plugin\n",
    "![Jenkins using Configuration as Code plugin animated gif](https://github.com/Ouranosinc/jenkins-config/raw/master/canarie-presentation/jenkins-with-jcasc.gif)\n",
    "* Fixes all the previous problems\n",
    "* Fits the DevOPS way of \"Infrastructure as Code\"\n"
   ]
  }
 ],
 "metadata": {
  "celltoolbar": "Slideshow",
  "kernelspec": {
   "display_name": "Python 3",
   "language": "python",
   "name": "python3"
  },
  "language_info": {
   "codemirror_mode": {
    "name": "ipython",
    "version": 3
   },
   "file_extension": ".py",
   "mimetype": "text/x-python",
   "name": "python",
   "nbconvert_exporter": "python",
   "pygments_lexer": "ipython3",
   "version": "3.6.7"
  }
 },
 "nbformat": 4,
 "nbformat_minor": 2
}
