{
 "cells": [
  {
   "cell_type": "markdown",
   "metadata": {
    "slideshow": {
     "slide_type": "slide"
    }
   },
   "source": [
    "# Jenkins without Configuration as Code plugin\n",
    "\n",
    "![Jenkins without Configuration as Code plugin animated gif](jenkins-manual.gif)\n",
    "* No automated configuration sync between Production and Staging instances\n",
    "* Very time consuming to manually reconfigure a fresh instance to replicate exactly the same configurations\n",
    "* No tracking who changed which config, when, why\n"
   ]
  },
  {
   "cell_type": "markdown",
   "metadata": {
    "slideshow": {
     "slide_type": "slide"
    }
   },
   "source": [
    "# Jenkins using Configuration as Code plugin\n",
    "![Jenkins using Configuration as Code plugin animated gif](jenkins-with-jcasc.gif)\n",
    "* Fixes all the previous problems\n",
    "* Fits the DevOPS way of \"Infrastructure as Code\"\n"
   ]
  }
 ],
 "metadata": {
  "celltoolbar": "Slideshow",
  "kernelspec": {
   "display_name": "Python 3",
   "language": "python",
   "name": "python3"
  },
  "language_info": {
   "codemirror_mode": {
    "name": "ipython",
    "version": 3
   },
   "file_extension": ".py",
   "mimetype": "text/x-python",
   "name": "python",
   "nbconvert_exporter": "python",
   "pygments_lexer": "ipython3",
   "version": "3.6.7"
  }
 },
 "nbformat": 4,
 "nbformat_minor": 2
}
